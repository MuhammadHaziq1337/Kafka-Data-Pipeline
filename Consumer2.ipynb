{
 "cells": [
  {
   "cell_type": "code",
   "execution_count": 1,
   "metadata": {},
   "outputs": [],
   "source": [
    "from kafka import KafkaConsumer\n",
    "import time\n",
    "from time import sleep\n",
    "from json import loads\n",
    "from json import dumps\n",
    "import pandas as pd\n",
    "import json\n",
    "import pymysql"
   ]
  },
  {
   "cell_type": "code",
   "execution_count": null,
   "metadata": {},
   "outputs": [],
   "source": [
    "def consumer_2(p1,p2,p3,p4):\n",
    "    try:\n",
    "        connection = pymysql.connect(host='localhost',\n",
    "                                     database='mydb',\n",
    "                                     user='hamz',\n",
    "                                     password='453565')\n",
    "\n",
    "\n",
    "        table = \"\"\"INSERT INTO movingaverage (Price, Buy, Action, TakeProfit) \n",
    "           VALUES (%s, %s, %s, %s)\"\"\"\n",
    "\n",
    "        cursor = connection.cursor()\n",
    "        result = cursor.execute(table,(p1,p2,p4,p3))\n",
    "        connection.commit()\n",
    "\n",
    "        print(\"Record Inserted Successfully.\")\n",
    "\n",
    "    except pymysql.Error as error:\n",
    "        print(\"Failed to insert record in MySQL: {}\".format(error))\n",
    "    finally:\n",
    "        if connection is not None:\n",
    "            cursor.close()\n",
    "            connection.close()\n",
    "            print(\"MySQL connection is closed\")"
   ]
  },
  {
   "cell_type": "code",
   "execution_count": 2,
   "metadata": {},
   "outputs": [],
   "source": [
    "consumer = KafkaConsumer('topic2',\n",
    "                        bootstrap_servers=['localhost:9092'],\n",
    "                        value_deserializer=lambda x:json.loads(x.decode('utf-8')))"
   ]
  },
  {
   "cell_type": "code",
   "execution_count": 3,
   "metadata": {},
   "outputs": [],
   "source": [
    "consumer = KafkaConsumer(\n",
    "    'topic2',\n",
    "    bootstrap_servers=['localhost:9092'],\n",
    "    value_deserializer=lambda x: loads(x.decode('utf-8'))\n",
    ")"
   ]
  },
  {
   "cell_type": "code",
   "execution_count": 4,
   "metadata": {},
   "outputs": [],
   "source": [
    "# Define moving average window size\n",
    "window_size = 21\n",
    "\n",
    "# Define take profit threshold\n",
    "take_profit = 85.00\n",
    "\n",
    "# Initialize empty list to store price data\n",
    "price_data = []\n",
    "\n",
    "# Initialize flag for take profit\n",
    "take_profit_flag = False\n"
   ]
  },
  {
   "cell_type": "code",
   "execution_count": 10,
   "metadata": {},
   "outputs": [],
   "source": [
    "# Set start time and time limit for consumer\n",
    "start_time = time.time()\n",
    "time_limit = 20  # in seconds"
   ]
  },
  {
   "cell_type": "code",
   "execution_count": 11,
   "metadata": {},
   "outputs": [
    {
     "name": "stdout",
     "output_type": "stream",
     "text": [
      "Price within acceptable range ($80.68000030517578), no action taken.\n",
      "Price within acceptable range ($80.66000366210938), no action taken.\n",
      "Price above moving average ($80.83999633789062), triggering buy order...\n",
      "Price above moving average ($80.79000091552734), triggering buy order...\n",
      "Price above moving average ($80.93000030517578), triggering buy order...\n",
      "Price below moving average ($80.18000030517578), triggering sell order...\n",
      "Price within acceptable range ($80.19000244140625), no action taken.\n",
      "Price within acceptable range ($80.26000213623047), no action taken.\n",
      "Price within acceptable range ($80.3499984741211), no action taken.\n",
      "Price above moving average ($80.70999908447266), triggering buy order...\n",
      "Price above moving average ($80.5999984741211), triggering buy order...\n",
      "Price below moving average ($80.41999816894531), triggering sell order...\n",
      "Price within acceptable range ($80.27999877929688), no action taken.\n",
      "Price above moving average ($80.56999969482422), triggering buy order...\n",
      "Price above moving average ($80.5199966430664), triggering buy order...\n",
      "Price above moving average ($80.79000091552734), triggering buy order...\n",
      "Price above moving average ($80.69999694824219), triggering buy order...\n",
      "Price above moving average ($80.66000366210938), triggering buy order...\n",
      "Price above moving average ($80.9800033569336), triggering buy order...\n"
     ]
    }
   ],
   "source": [
    "# Monitor stock prices\n",
    "for message in consumer:\n",
    "    # Check if time limit has been reached\n",
    "    elapsed_time = time.time() - start_time\n",
    "    if elapsed_time >= time_limit:\n",
    "        break\n",
    "    stock_data = message.value\n",
    "    price = stock_data['Adj Close:CL=F']\n",
    "    \n",
    "    # Add price to price data list\n",
    "    price_data.append(price)\n",
    "    \n",
    "    # Calculate moving average\n",
    "    if len(price_data) >= window_size:\n",
    "        moving_average = pd.Series(price_data).rolling(window_size).mean().iloc[-1]\n",
    "    else:\n",
    "        moving_average = price\n",
    "        \n",
    "    # Check if the current price is above or below the moving average\n",
    "    if price > moving_average:\n",
    "        # Trigger a buy order if the price is above the moving average\n",
    "        print(f'Price above moving average (${price}), triggering buy order...')\n",
    "        consumer_2(price,'Yes','NO','NO')\n",
    "        # Place code here to trigger a buy order using your trading API\n",
    "        \n",
    "        # Set take profit flag to True\n",
    "        take_profit_flag = True\n",
    "        \n",
    "    elif price < moving_average and take_profit_flag:\n",
    "        # Trigger a sell order if the price is below the moving average and take profit flag is True\n",
    "        print(f'Price below moving average (${price}), triggering sell order...')\n",
    "        # Place code here to trigger a sell order using your trading API\n",
    "        consumer_2(price,'No','Yes','NO')\n",
    "        # Reset take profit flag to False\n",
    "        take_profit_flag = False\n",
    "        \n",
    "    else:\n",
    "        print(f'Price within acceptable range (${price}), no action taken.')\n",
    "        consumer_2(price,'NO','NO','YES')\n",
    "    # Wait for 10 seconds before processing the next message\n",
    "    time.sleep(1)"
   ]
  },
  {
   "cell_type": "code",
   "execution_count": null,
   "metadata": {},
   "outputs": [],
   "source": []
  }
 ],
 "metadata": {
  "kernelspec": {
   "display_name": "Python 3",
   "language": "python",
   "name": "python3"
  },
  "language_info": {
   "codemirror_mode": {
    "name": "ipython",
    "version": 3
   },
   "file_extension": ".py",
   "mimetype": "text/x-python",
   "name": "python",
   "nbconvert_exporter": "python",
   "pygments_lexer": "ipython3",
   "version": "3.10.6"
  },
  "orig_nbformat": 4
 },
 "nbformat": 4,
 "nbformat_minor": 2
}
