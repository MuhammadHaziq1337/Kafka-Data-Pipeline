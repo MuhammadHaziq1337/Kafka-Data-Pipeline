{
 "cells": [
  {
   "cell_type": "code",
   "execution_count": 1,
   "id": "87e88bfc",
   "metadata": {},
   "outputs": [],
   "source": [
    "from kafka import KafkaConsumer\n",
    "import time\n",
    "from time import sleep\n",
    "from json import loads\n",
    "from json import dumps\n",
    "import pandas as pd\n",
    "import json\n",
    "import pymysql"
   ]
  },
  {
   "cell_type": "code",
   "execution_count": null,
   "id": "88d23606",
   "metadata": {},
   "outputs": [],
   "source": [
    "def consumer_1(p1,p2,p3,p4,p5):\n",
    "    try:\n",
    "        connection = pymysql.connect(host='localhost',\n",
    "                                     database='mydb',\n",
    "                                     user='hamz',\n",
    "                                     password='453565')\n",
    "\n",
    "        table=\"\"\"INSERT INTO buyandsell (Price, Buy, Sell, BelowStopLoss, Action) \n",
    "        VALUES (%s,%s,%s,%s,%s)\"\"\"\n",
    "        cursor = connection.cursor()\n",
    "        result = cursor.execute(table,(p1,p2,p3,p4,p5))\n",
    "        connection.commit()\n",
    "\n",
    "        print(\"Record Inserted Successfully.\")\n",
    "\n",
    "    except pymysql.Error as error:\n",
    "        print(\"Failed to insert record in MySQL: {}\".format(error))\n",
    "    finally:\n",
    "        if connection is not None:\n",
    "            cursor.close()\n",
    "            connection.close()\n",
    "            print(\"MySQL connection is closed\")"
   ]
  },
  {
   "cell_type": "code",
   "execution_count": 2,
   "id": "09e2785d",
   "metadata": {},
   "outputs": [],
   "source": [
    "consumer = KafkaConsumer('topic1',\n",
    "                        bootstrap_servers=['localhost:9092'],\n",
    "                        value_deserializer=lambda x:json.loads(x.decode('utf-8')))"
   ]
  },
  {
   "cell_type": "code",
   "execution_count": 3,
   "metadata": {},
   "outputs": [],
   "source": [
    "consumer = KafkaConsumer(\n",
    "    'topic1',\n",
    "    bootstrap_servers=['localhost:9092'],\n",
    "    value_deserializer=lambda x: loads(x.decode('utf-8'))\n",
    ")"
   ]
  },
  {
   "cell_type": "code",
   "execution_count": 12,
   "id": "d6b764b0",
   "metadata": {},
   "outputs": [],
   "source": [
    "# Set start time and time limit for consumer\n",
    "start_time = time.time()\n",
    "time_limit = 30  # in seconds"
   ]
  },
  {
   "cell_type": "code",
   "execution_count": 4,
   "id": "520dcfea",
   "metadata": {},
   "outputs": [],
   "source": [
    "# Define price action thresholds\n",
    "buy_threshold = 81.00\n",
    "sell_threshold = 82.00\n",
    "stop_loss = 79.00\n"
   ]
  },
  {
   "cell_type": "code",
   "execution_count": 13,
   "id": "7e25a0fa",
   "metadata": {},
   "outputs": [
    {
     "name": "stdout",
     "output_type": "stream",
     "text": [
      "Price below buy threshold ($80.37999725341797), triggering buy order...\n",
      "Price within acceptable range ($81.33999633789062), no action taken.\n",
      "Price within acceptable range ($81.41999816894531), no action taken.\n",
      "Price within acceptable range ($81.33000183105469), no action taken.\n",
      "Price within acceptable range ($81.52999877929688), no action taken.\n",
      "Price within acceptable range ($81.43000030517578), no action taken.\n",
      "Price within acceptable range ($81.38999938964844), no action taken.\n",
      "Price within acceptable range ($81.47000122070312), no action taken.\n",
      "Price within acceptable range ($81.4800033569336), no action taken.\n",
      "Price within acceptable range ($81.6500015258789), no action taken.\n",
      "Price within acceptable range ($81.54000091552734), no action taken.\n",
      "Price within acceptable range ($81.5199966430664), no action taken.\n",
      "Price within acceptable range ($81.55000305175781), no action taken.\n",
      "Price within acceptable range ($81.58999633789062), no action taken.\n",
      "Price within acceptable range ($81.06999969482422), no action taken.\n",
      "Price below buy threshold ($80.97000122070312), triggering buy order...\n",
      "Price below buy threshold ($80.55000305175781), triggering buy order...\n",
      "Price below buy threshold ($80.54000091552734), triggering buy order...\n",
      "Price below buy threshold ($80.2300033569336), triggering buy order...\n",
      "Price below buy threshold ($80.5), triggering buy order...\n",
      "Price below buy threshold ($80.5), triggering buy order...\n",
      "Price below buy threshold ($80.38999938964844), triggering buy order...\n",
      "Price below buy threshold ($80.41999816894531), triggering buy order...\n",
      "Price below buy threshold ($80.08999633789062), triggering buy order...\n",
      "Price below buy threshold ($79.62999725341797), triggering buy order...\n",
      "Price below buy threshold ($80.18000030517578), triggering buy order...\n",
      "Price below buy threshold ($80.19999694824219), triggering buy order...\n",
      "Price below buy threshold ($80.69000244140625), triggering buy order...\n"
     ]
    }
   ],
   "source": [
    "# Monitor stock prices\n",
    "for message in consumer:\n",
    "    # Check if time limit has been reached\n",
    "    elapsed_time = time.time() - start_time\n",
    "    if elapsed_time >= time_limit:\n",
    "        break\n",
    "    stock_data = message.value\n",
    "    price = stock_data['Adj Close:CL=F']\n",
    "    \n",
    "    if price < buy_threshold:\n",
    "        # Trigger a buy order if the price is below the buy threshold\n",
    "        print(f'Price below buy threshold (${price}), triggering buy order...')\n",
    "        consumer_1(price,'Yes','NO','NO','NO')\n",
    "        # Place code here to trigger a buy order using your trading API\n",
    "    elif price > sell_threshold:\n",
    "        # Trigger a sell order if the price is above the sell threshold\n",
    "        print(f'Price above sell threshold (${price}), triggering sell order...')\n",
    "        consumer_1(price,'NO','YES','NO','NO')\n",
    "        # Place code here to trigger a sell order using your trading API\n",
    "    elif price < stop_loss:\n",
    "        # Trigger a stop loss order if the price falls below the stop loss threshold\n",
    "        print(f'Price below stop loss threshold (${price}), triggering stop loss order...')\n",
    "        consumer_1(price,'NO','NO','YES','NO')\n",
    "        # Place code here to trigger a stop loss order using your trading API    \n",
    "    else:\n",
    "        print(f'Price within acceptable range (${price}), no action taken.')\n",
    "        consumer_1(price,'NO','NO','NO','YES')\n",
    "        \n",
    "    # Wait for 10 seconds before processing the next message\n",
    "    time.sleep(1)"
   ]
  }
 ],
 "metadata": {
  "kernelspec": {
   "display_name": "Python 3 (ipykernel)",
   "language": "python",
   "name": "python3"
  },
  "language_info": {
   "codemirror_mode": {
    "name": "ipython",
    "version": 3
   },
   "file_extension": ".py",
   "mimetype": "text/x-python",
   "name": "python",
   "nbconvert_exporter": "python",
   "pygments_lexer": "ipython3",
   "version": "3.10.6"
  }
 },
 "nbformat": 4,
 "nbformat_minor": 5
}
